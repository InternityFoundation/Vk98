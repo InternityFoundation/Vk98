{
 "cells": [
  {
   "cell_type": "markdown",
   "metadata": {},
   "source": [
    "# Basic Logistic regression model using vectorisation\n"
   ]
  },
  {
   "cell_type": "code",
   "execution_count": 42,
   "metadata": {},
   "outputs": [],
   "source": [
    "# importing numpy for calculations\n",
    "import numpy as np"
   ]
  },
  {
   "cell_type": "code",
   "execution_count": 43,
   "metadata": {},
   "outputs": [],
   "source": [
    "#functions returns value sigmoid at a given x\n",
    "def sigmoid(x):\n",
    "    return 1/(1 + np.exp(-x))"
   ]
  },
  {
   "cell_type": "code",
   "execution_count": 44,
   "metadata": {},
   "outputs": [],
   "source": [
    "#this function excutes single forward propogation and backpropogation\n",
    "def propogate(W, b, X, Y):\n",
    "    m = X.shape[1]\n",
    "    A = sigmoid(np.dot(W.T, X) + b)\n",
    "    dw = np.dot(X, (A - Y).T) / m\n",
    "    db = np.sum(A-Y) / m\n",
    "    grads = {\n",
    "        'dw': dw,\n",
    "        'db': db\n",
    "    }\n",
    "    return grads"
   ]
  },
  {
   "cell_type": "code",
   "execution_count": 71,
   "metadata": {},
   "outputs": [],
   "source": [
    "#this function optimise the model and update weights and biases\n",
    "def model(X, Y, learning_rate = 0.01, epoch = 1000):\n",
    "    W ,b = np.zeros((X.shape[0]), dtype = float), 0\n",
    "    \n",
    "    for i in range(epoch):\n",
    "        grads = propogate(W, b, X, Y)\n",
    "        \n",
    "        W = W - learning_rate * grads['dw']\n",
    "        b = b - learning_rate * grads['db']\n",
    "    parameters = {\n",
    "        'W': W,\n",
    "        'b':b\n",
    "    }\n",
    "    return parameters"
   ]
  },
  {
   "cell_type": "code",
   "execution_count": 85,
   "metadata": {},
   "outputs": [],
   "source": [
    "#this function predicts output for input for provided weights\n",
    "def predict(X, parameters):\n",
    "    tmp_predictions = np.dot(parameters['W'].T, X) + parameters['b']\n",
    "    predictions = []\n",
    "    for i in tmp_predictions:\n",
    "        if i>=0.5:\n",
    "            predictions.append(1)\n",
    "        else:\n",
    "            predictions.append(0)\n",
    "    \n",
    "    return predictions"
   ]
  },
  {
   "cell_type": "code",
   "execution_count": 86,
   "metadata": {},
   "outputs": [],
   "source": [
    "# data points for AND gate\n",
    "X = np.array([[1, 1, 0, 0], \n",
    "              [1, 0, 1, 0]])\n",
    "Y = np.array([1, 1, 1, 0 ])"
   ]
  },
  {
   "cell_type": "code",
   "execution_count": 87,
   "metadata": {},
   "outputs": [],
   "source": [
    "# fitting model for training data\n",
    "params = model(X, Y, epoch=10000)"
   ]
  },
  {
   "cell_type": "code",
   "execution_count": 88,
   "metadata": {},
   "outputs": [
    {
     "data": {
      "text/plain": [
       "[1, 0, 0, 0]"
      ]
     },
     "execution_count": 88,
     "metadata": {},
     "output_type": "execute_result"
    }
   ],
   "source": [
    "predict(X, params)"
   ]
  },
  {
   "cell_type": "code",
   "execution_count": null,
   "metadata": {},
   "outputs": [],
   "source": []
  }
 ],
 "metadata": {
  "kernelspec": {
   "display_name": "Python 3",
   "language": "python",
   "name": "python3"
  },
  "language_info": {
   "codemirror_mode": {
    "name": "ipython",
    "version": 3
   },
   "file_extension": ".py",
   "mimetype": "text/x-python",
   "name": "python",
   "nbconvert_exporter": "python",
   "pygments_lexer": "ipython3",
   "version": "3.6.9"
  }
 },
 "nbformat": 4,
 "nbformat_minor": 4
}
