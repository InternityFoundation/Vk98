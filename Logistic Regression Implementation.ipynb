{
 "cells": [
  {
   "cell_type": "markdown",
   "metadata": {},
   "source": [
    "# Basic Logistic regression model using vectorisation\n"
   ]
  },
  {
   "cell_type": "code",
   "execution_count": 129,
   "metadata": {},
   "outputs": [],
   "source": [
    "# importing numpy for calculations\n",
    "import numpy as np"
   ]
  },
  {
   "cell_type": "code",
   "execution_count": 130,
   "metadata": {},
   "outputs": [],
   "source": [
    "#functions returns value sigmoid at a given x\n",
    "def sigmoid(x):\n",
    "    return 1/(1 + np.exp(-x))"
   ]
  },
  {
   "cell_type": "code",
   "execution_count": 131,
   "metadata": {},
   "outputs": [],
   "source": [
    "#this function excutes single forward propogation and backpropogation\n",
    "def propogate(W, b, X, Y):\n",
    "    m = X.shape[1]\n",
    "    A = sigmoid(np.dot(W.T, X) + b)\n",
    "    cost = -np.sum( Y * np.log(A) + (1 - Y) * np.log( 1 - A))/m\n",
    "    dw = np.dot(X, (A - Y).T) / m\n",
    "    db = np.sum(A-Y) / m\n",
    "    grads = {\n",
    "        'dw': dw,\n",
    "        'db': db\n",
    "    }\n",
    "    return grads, cost"
   ]
  },
  {
   "cell_type": "code",
   "execution_count": 132,
   "metadata": {},
   "outputs": [],
   "source": [
    "#this function optimise the model and update weights and biases\n",
    "def model(X, Y, learning_rate = 0.01, epoch = 1000):\n",
    "    W ,b = np.zeros((X.shape[0], 1), dtype = float), 0\n",
    "    print(W.shape)\n",
    "    for i in range(epoch):\n",
    "        grads, cost = propogate(W, b, X, Y)\n",
    "        \n",
    "        W = W - learning_rate * grads['dw']\n",
    "        b = b - learning_rate * grads['db']\n",
    "        \n",
    "        if i % 100 == 0:\n",
    "            print(f'Cost function value in {i}th epoch is {cost}')\n",
    "    parameters = {\n",
    "        'W': W,\n",
    "        'b':b\n",
    "    }\n",
    "    return parameters"
   ]
  },
  {
   "cell_type": "code",
   "execution_count": 133,
   "metadata": {},
   "outputs": [],
   "source": [
    "#this function predicts output for input for provided weights\n",
    "def predict(X, parameters):\n",
    "    tmp_predictions = np.dot(parameters['W'].T, X) + parameters['b']\n",
    "    predictions = []\n",
    "    for i in tmp_predictions[0]:\n",
    "        if i>=0.5:\n",
    "            predictions.append(1)\n",
    "        else:\n",
    "            predictions.append(0)\n",
    "    \n",
    "    return np.array(predictions)"
   ]
  },
  {
   "cell_type": "code",
   "execution_count": 134,
   "metadata": {},
   "outputs": [],
   "source": [
    "# data points for AND gate\n",
    "X = np.array([[1, 1, 0, 0], \n",
    "              [1, 0, 1, 0]])\n",
    "Y = np.array([1, 0, 0, 0 ])"
   ]
  },
  {
   "cell_type": "code",
   "execution_count": 135,
   "metadata": {},
   "outputs": [
    {
     "name": "stdout",
     "output_type": "stream",
     "text": [
      "(2, 1)\n",
      "Cost function value in 0th epoch is 0.6931471805599453\n",
      "Cost function value in 100th epoch is 0.6429743920199265\n",
      "Cost function value in 200th epoch is 0.6084887459647452\n",
      "Cost function value in 300th epoch is 0.5818663594803389\n",
      "Cost function value in 400th epoch is 0.5595507069766736\n",
      "Cost function value in 500th epoch is 0.5398778090686681\n",
      "Cost function value in 600th epoch is 0.5220321156766344\n",
      "Cost function value in 700th epoch is 0.5055868835453164\n",
      "Cost function value in 800th epoch is 0.4902981620038015\n",
      "Cost function value in 900th epoch is 0.47601066448428514\n",
      "Cost function value in 1000th epoch is 0.4626140510815541\n",
      "Cost function value in 1100th epoch is 0.45002232370759265\n",
      "Cost function value in 1200th epoch is 0.43816394610202153\n",
      "Cost function value in 1300th epoch is 0.42697697721635897\n",
      "Cost function value in 1400th epoch is 0.41640655934229165\n",
      "Cost function value in 1500th epoch is 0.4064035184693867\n",
      "Cost function value in 1600th epoch is 0.39692349641618296\n",
      "Cost function value in 1700th epoch is 0.38792634450235486\n",
      "Cost function value in 1800th epoch is 0.3793756535344774\n",
      "Cost function value in 1900th epoch is 0.3712383622047055\n",
      "Cost function value in 2000th epoch is 0.3634844169268315\n",
      "Cost function value in 2100th epoch is 0.35608647012776706\n",
      "Cost function value in 2200th epoch is 0.3490196102260042\n",
      "Cost function value in 2300th epoch is 0.34226111923203484\n",
      "Cost function value in 2400th epoch is 0.33579025506812094\n",
      "Cost function value in 2500th epoch is 0.3295880562182054\n",
      "Cost function value in 2600th epoch is 0.3236371665763303\n",
      "Cost function value in 2700th epoch is 0.31792167852952197\n",
      "Cost function value in 2800th epoch is 0.31242699245348854\n",
      "Cost function value in 2900th epoch is 0.3071396909381622\n",
      "Cost function value in 3000th epoch is 0.30204742619944325\n",
      "Cost function value in 3100th epoch is 0.297138819271792\n",
      "Cost function value in 3200th epoch is 0.29240336971062164\n",
      "Cost function value in 3300th epoch is 0.287831374661125\n",
      "Cost function value in 3400th epoch is 0.28341385626945065\n",
      "Cost function value in 3500th epoch is 0.27914249652202555\n",
      "Cost function value in 3600th epoch is 0.2750095786989449\n",
      "Cost function value in 3700th epoch is 0.2710079347178568\n",
      "Cost function value in 3800th epoch is 0.2671308977260147\n",
      "Cost function value in 3900th epoch is 0.2633722593707943\n",
      "Cost function value in 4000th epoch is 0.25972623124361766\n",
      "Cost function value in 4100th epoch is 0.25618741004962864\n",
      "Cost function value in 4200th epoch is 0.2527507461063166\n",
      "Cost function value in 4300th epoch is 0.249411514819287\n",
      "Cost function value in 4400th epoch is 0.24616529082313604\n",
      "Cost function value in 4500th epoch is 0.24300792451051945\n",
      "Cost function value in 4600th epoch is 0.23993552070351035\n",
      "Cost function value in 4700th epoch is 0.2369444192487292\n",
      "Cost function value in 4800th epoch is 0.2340311773418974\n",
      "Cost function value in 4900th epoch is 0.231192553408824\n",
      "Cost function value in 5000th epoch is 0.22842549238869472\n",
      "Cost function value in 5100th epoch is 0.22572711228221506\n",
      "Cost function value in 5200th epoch is 0.2230946918419096\n",
      "Cost function value in 5300th epoch is 0.22052565929493537\n",
      "Cost function value in 5400th epoch is 0.21801758200034135\n",
      "Cost function value in 5500th epoch is 0.21556815695295764\n",
      "Cost function value in 5600th epoch is 0.2131752020551983\n",
      "Cost function value in 5700th epoch is 0.21083664808614996\n",
      "Cost function value in 5800th epoch is 0.20855053130449802\n",
      "Cost function value in 5900th epoch is 0.20631498662823924\n",
      "Cost function value in 6000th epoch is 0.20412824133982446\n",
      "Cost function value in 6100th epoch is 0.20198860927045165\n",
      "Cost function value in 6200th epoch is 0.19989448542176202\n",
      "Cost function value in 6300th epoch is 0.19784434098723983\n",
      "Cost function value in 6400th epoch is 0.1958367187392359\n",
      "Cost function value in 6500th epoch is 0.19387022875077817\n",
      "Cost function value in 6600th epoch is 0.19194354442423311\n",
      "Cost function value in 6700th epoch is 0.19005539880148958\n",
      "Cost function value in 6800th epoch is 0.1882045811326735\n",
      "Cost function value in 6900th epoch is 0.18638993368250678\n",
      "Cost function value in 7000th epoch is 0.18461034875530904\n",
      "Cost function value in 7100th epoch is 0.18286476592135345\n",
      "Cost function value in 7200th epoch is 0.18115216942881454\n",
      "Cost function value in 7300th epoch is 0.17947158578693542\n",
      "Cost function value in 7400th epoch is 0.17782208150729456\n",
      "Cost function value in 7500th epoch is 0.1762027609911796\n",
      "Cost function value in 7600th epoch is 0.1746127645521054\n",
      "Cost function value in 7700th epoch is 0.17305126656343264\n",
      "Cost function value in 7800th epoch is 0.17151747372189496\n",
      "Cost function value in 7900th epoch is 0.17001062341859557\n",
      "Cost function value in 8000th epoch is 0.16852998220973367\n",
      "Cost function value in 8100th epoch is 0.16707484437994816\n",
      "Cost function value in 8200th epoch is 0.16564453059174317\n",
      "Cost function value in 8300th epoch is 0.1642383866149752\n",
      "Cost function value in 8400th epoch is 0.16285578213086632\n",
      "Cost function value in 8500th epoch is 0.16149610960543534\n",
      "Cost function value in 8600th epoch is 0.1601587832276386\n",
      "Cost function value in 8700th epoch is 0.15884323790787386\n",
      "Cost function value in 8800th epoch is 0.15754892833283157\n",
      "Cost function value in 8900th epoch is 0.15627532807298075\n",
      "Cost function value in 9000th epoch is 0.1550219287392577\n",
      "Cost function value in 9100th epoch is 0.15378823918577494\n",
      "Cost function value in 9200th epoch is 0.1525737847556067\n",
      "Cost function value in 9300th epoch is 0.1513781065669193\n",
      "Cost function value in 9400th epoch is 0.15020076083691294\n",
      "Cost function value in 9500th epoch is 0.1490413182412191\n",
      "Cost function value in 9600th epoch is 0.14789936330657408\n",
      "Cost function value in 9700th epoch is 0.14677449383473012\n",
      "Cost function value in 9800th epoch is 0.14566632035571617\n",
      "Cost function value in 9900th epoch is 0.14457446560869042\n"
     ]
    }
   ],
   "source": [
    "# fitting model for training data\n",
    "params = model(X, Y, epoch=10000)"
   ]
  },
  {
   "cell_type": "code",
   "execution_count": 136,
   "metadata": {},
   "outputs": [],
   "source": [
    "#predicting result from model\n",
    "result = predict(X, params)"
   ]
  },
  {
   "cell_type": "code",
   "execution_count": 137,
   "metadata": {},
   "outputs": [
    {
     "name": "stdout",
     "output_type": "stream",
     "text": [
      "Accuracy of our model for AND gate is 100.0%\n"
     ]
    }
   ],
   "source": [
    "#accuracy\n",
    "accuracy = np.sum(result == Y)/len(Y)\n",
    "print(f\"Accuracy of our model for AND gate is {accuracy * 100}%\")"
   ]
  },
  {
   "cell_type": "markdown",
   "metadata": {},
   "source": [
    "## Using model to predict on breast cancer dataset"
   ]
  },
  {
   "cell_type": "code",
   "execution_count": 158,
   "metadata": {},
   "outputs": [],
   "source": [
    "from sklearn.datasets import load_breast_cancer\n",
    "from sklearn.model_selection import train_test_split"
   ]
  },
  {
   "cell_type": "code",
   "execution_count": 159,
   "metadata": {},
   "outputs": [],
   "source": [
    "train_x, test_x, train_y, test_y = train_test_split(load_breast_cancer().data, load_breast_cancer().target, random_state = 1, test_size = 0.3)"
   ]
  },
  {
   "cell_type": "code",
   "execution_count": 160,
   "metadata": {},
   "outputs": [
    {
     "data": {
      "text/plain": [
       "(30, 398)"
      ]
     },
     "execution_count": 160,
     "metadata": {},
     "output_type": "execute_result"
    }
   ],
   "source": [
    "train_x = train_x.T\n",
    "train_x.shape"
   ]
  },
  {
   "cell_type": "code",
   "execution_count": 161,
   "metadata": {},
   "outputs": [
    {
     "data": {
      "text/plain": [
       "(1, 398)"
      ]
     },
     "execution_count": 161,
     "metadata": {},
     "output_type": "execute_result"
    }
   ],
   "source": [
    "train_y = train_y.reshape((1,len(train_y)))\n",
    "train_y.shape"
   ]
  },
  {
   "cell_type": "code",
   "execution_count": null,
   "metadata": {},
   "outputs": [
    {
     "name": "stdout",
     "output_type": "stream",
     "text": [
      "(30, 1)\n",
      "Cost function value in 0th epoch is 0.6931471805599452\n",
      "Cost function value in 100th epoch is nan\n",
      "Cost function value in 200th epoch is 0.5521027847562416\n",
      "Cost function value in 300th epoch is nan\n"
     ]
    },
    {
     "name": "stderr",
     "output_type": "stream",
     "text": [
      "/home/vj/.local/lib/python3.6/site-packages/ipykernel_launcher.py:5: RuntimeWarning: divide by zero encountered in log\n",
      "  \"\"\"\n",
      "/home/vj/.local/lib/python3.6/site-packages/ipykernel_launcher.py:5: RuntimeWarning: invalid value encountered in multiply\n",
      "  \"\"\"\n"
     ]
    },
    {
     "name": "stdout",
     "output_type": "stream",
     "text": [
      "Cost function value in 400th epoch is 0.4266821362907482\n",
      "Cost function value in 500th epoch is 0.42422856741455345\n",
      "Cost function value in 600th epoch is 0.6609415563087058\n",
      "Cost function value in 700th epoch is 0.39045628548200917\n",
      "Cost function value in 800th epoch is 0.35567531399925184\n",
      "Cost function value in 900th epoch is 0.32816965236358137\n",
      "Cost function value in 1000th epoch is 0.30622570017037504\n",
      "Cost function value in 1100th epoch is 0.28915615768965386\n",
      "Cost function value in 1200th epoch is 3.977382828442242\n",
      "Cost function value in 1300th epoch is 0.3489338331747859\n",
      "Cost function value in 1400th epoch is 0.32718451253725667\n",
      "Cost function value in 1500th epoch is 0.3098724069444596\n",
      "Cost function value in 1600th epoch is 0.2961896359402251\n",
      "Cost function value in 1700th epoch is 2.7796023198506266\n",
      "Cost function value in 1800th epoch is 0.3430694464915036\n",
      "Cost function value in 1900th epoch is 0.3245139028311406\n",
      "Cost function value in 2000th epoch is 0.30973989414317765\n",
      "Cost function value in 2100th epoch is 0.2977223455677838\n",
      "Cost function value in 2200th epoch is 0.2918526084251816\n",
      "Cost function value in 2300th epoch is 0.34137061972050936\n",
      "Cost function value in 2400th epoch is 0.3237117835368261\n",
      "Cost function value in 2500th epoch is 0.3096084922391984\n",
      "Cost function value in 2600th epoch is 0.29799548555762284\n",
      "Cost function value in 2700th epoch is 0.3810442587085378\n",
      "Cost function value in 2800th epoch is 0.33346034106873\n",
      "Cost function value in 2900th epoch is 0.31732115836187585\n",
      "Cost function value in 3000th epoch is 0.3043294060240584\n",
      "Cost function value in 3100th epoch is 0.2934476287346716\n",
      "Cost function value in 3200th epoch is 2.8245444571339235\n",
      "Cost function value in 3300th epoch is 0.32408251264506355\n",
      "Cost function value in 3400th epoch is 0.3093687054773928\n",
      "Cost function value in 3500th epoch is 0.29737885818791154\n",
      "Cost function value in 3600th epoch is 0.37286244098621396\n",
      "Cost function value in 3700th epoch is 0.8403562811296954\n",
      "Cost function value in 3800th epoch is 0.37902153289356044\n",
      "Cost function value in 3900th epoch is 1.0614124314205378\n",
      "Cost function value in 4000th epoch is 0.3751252351769064\n",
      "Cost function value in 4100th epoch is 0.43524050614302695\n",
      "Cost function value in 4200th epoch is 0.614020101032837\n",
      "Cost function value in 4300th epoch is 0.3830535015366575\n",
      "Cost function value in 4400th epoch is 0.4399290271007444\n",
      "Cost function value in 4500th epoch is 0.61044703350225\n",
      "Cost function value in 4600th epoch is 0.5751226535702354\n",
      "Cost function value in 4700th epoch is 0.5847642700170249\n",
      "Cost function value in 4800th epoch is 0.39708930072279297\n",
      "Cost function value in 4900th epoch is 0.8773479443365367\n",
      "Cost function value in 5000th epoch is 0.3646421857858314\n",
      "Cost function value in 5100th epoch is 0.5016625790235643\n",
      "Cost function value in 5200th epoch is 0.5799104701928639\n",
      "Cost function value in 5300th epoch is 0.398491306910135\n",
      "Cost function value in 5400th epoch is 0.8461958466582851\n",
      "Cost function value in 5500th epoch is 0.3698282363690953\n",
      "Cost function value in 5600th epoch is 0.6470594811346985\n",
      "Cost function value in 5700th epoch is 0.5520683509504478\n",
      "Cost function value in 5800th epoch is 0.41251232943042065\n"
     ]
    }
   ],
   "source": [
    "params = model(train_x, train_y, epoch = 10000, learning_rate=0.0001)"
   ]
  },
  {
   "cell_type": "code",
   "execution_count": 157,
   "metadata": {},
   "outputs": [
    {
     "data": {
      "text/plain": [
       "(171, 30)"
      ]
     },
     "execution_count": 157,
     "metadata": {},
     "output_type": "execute_result"
    }
   ],
   "source": [
    "test_x = test_x.T\n",
    "test_x.shape"
   ]
  },
  {
   "cell_type": "code",
   "execution_count": 153,
   "metadata": {},
   "outputs": [
    {
     "data": {
      "text/plain": [
       "(1, 171)"
      ]
     },
     "execution_count": 153,
     "metadata": {},
     "output_type": "execute_result"
    }
   ],
   "source": [
    "test_y = test_y.reshape((1,len(test_y)))\n",
    "test_y.shape"
   ]
  },
  {
   "cell_type": "code",
   "execution_count": 154,
   "metadata": {},
   "outputs": [],
   "source": [
    "result = predict(test_x, params)"
   ]
  },
  {
   "cell_type": "code",
   "execution_count": 155,
   "metadata": {},
   "outputs": [
    {
     "name": "stdout",
     "output_type": "stream",
     "text": [
      "Accuracy of our model for Breancer dataset is 92.39766081871345%\n"
     ]
    }
   ],
   "source": [
    "#accuracy\n",
    "accuracy = np.sum(result == test_y)/test_y.shape[1]\n",
    "print(f\"Accuracy of our model for Breancer dataset is {accuracy * 100}%\")"
   ]
  },
  {
   "cell_type": "code",
   "execution_count": null,
   "metadata": {},
   "outputs": [],
   "source": []
  }
 ],
 "metadata": {
  "kernelspec": {
   "display_name": "Python 3",
   "language": "python",
   "name": "python3"
  },
  "language_info": {
   "codemirror_mode": {
    "name": "ipython",
    "version": 3
   },
   "file_extension": ".py",
   "mimetype": "text/x-python",
   "name": "python",
   "nbconvert_exporter": "python",
   "pygments_lexer": "ipython3",
   "version": "3.6.9"
  }
 },
 "nbformat": 4,
 "nbformat_minor": 4
}
